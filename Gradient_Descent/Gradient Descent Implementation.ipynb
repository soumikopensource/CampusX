{
 "cells": [
  {
   "cell_type": "markdown",
   "metadata": {},
   "source": [
    "EDA work"
   ]
  },
  {
   "cell_type": "code",
   "execution_count": 2,
   "metadata": {},
   "outputs": [],
   "source": [
    "#necessary libraries to import\n",
    "import pandas as pd\n",
    "import numpy as np\n",
    "import matplotlib.pyplot as plt\n",
    "import time\n",
    "%matplotlib inline"
   ]
  },
  {
   "cell_type": "code",
   "execution_count": 3,
   "metadata": {},
   "outputs": [
    {
     "data": {
      "text/html": [
       "<div>\n",
       "<style scoped>\n",
       "    .dataframe tbody tr th:only-of-type {\n",
       "        vertical-align: middle;\n",
       "    }\n",
       "\n",
       "    .dataframe tbody tr th {\n",
       "        vertical-align: top;\n",
       "    }\n",
       "\n",
       "    .dataframe thead th {\n",
       "        text-align: right;\n",
       "    }\n",
       "</style>\n",
       "<table border=\"1\" class=\"dataframe\">\n",
       "  <thead>\n",
       "    <tr style=\"text-align: right;\">\n",
       "      <th></th>\n",
       "      <th>0</th>\n",
       "      <th>1</th>\n",
       "    </tr>\n",
       "  </thead>\n",
       "  <tbody>\n",
       "    <tr>\n",
       "      <th>0</th>\n",
       "      <td>6.1101</td>\n",
       "      <td>17.5920</td>\n",
       "    </tr>\n",
       "    <tr>\n",
       "      <th>1</th>\n",
       "      <td>5.5277</td>\n",
       "      <td>9.1302</td>\n",
       "    </tr>\n",
       "    <tr>\n",
       "      <th>2</th>\n",
       "      <td>8.5186</td>\n",
       "      <td>13.6620</td>\n",
       "    </tr>\n",
       "    <tr>\n",
       "      <th>3</th>\n",
       "      <td>7.0032</td>\n",
       "      <td>11.8540</td>\n",
       "    </tr>\n",
       "    <tr>\n",
       "      <th>4</th>\n",
       "      <td>5.8598</td>\n",
       "      <td>6.8233</td>\n",
       "    </tr>\n",
       "  </tbody>\n",
       "</table>\n",
       "</div>"
      ],
      "text/plain": [
       "        0        1\n",
       "0  6.1101  17.5920\n",
       "1  5.5277   9.1302\n",
       "2  8.5186  13.6620\n",
       "3  7.0032  11.8540\n",
       "4  5.8598   6.8233"
      ]
     },
     "execution_count": 3,
     "metadata": {},
     "output_type": "execute_result"
    }
   ],
   "source": [
    "#reading the txt file \n",
    "dataframe=pd.read_csv('dataset.txt',sep= \",\",header=None)\n",
    "dataframe.head()"
   ]
  },
  {
   "cell_type": "code",
   "execution_count": 4,
   "metadata": {},
   "outputs": [
    {
     "data": {
      "text/plain": [
       "(97, 2)"
      ]
     },
     "execution_count": 4,
     "metadata": {},
     "output_type": "execute_result"
    }
   ],
   "source": [
    "dataframe.shape"
   ]
  },
  {
   "cell_type": "code",
   "execution_count": null,
   "metadata": {},
   "outputs": [],
   "source": []
  },
  {
   "cell_type": "code",
   "execution_count": 5,
   "metadata": {},
   "outputs": [],
   "source": [
    "X=np.array(dataframe[0])\n",
    "x=X.reshape(-1,1)    #making 2D array"
   ]
  },
  {
   "cell_type": "code",
   "execution_count": 6,
   "metadata": {},
   "outputs": [],
   "source": [
    "Y=np.array(dataframe[1])\n",
    "y=Y.reshape(-1,1)     #making 2D array"
   ]
  },
  {
   "cell_type": "code",
   "execution_count": 7,
   "metadata": {},
   "outputs": [
    {
     "data": {
      "text/plain": [
       "<matplotlib.collections.PathCollection at 0x1f15ec3f708>"
      ]
     },
     "execution_count": 7,
     "metadata": {},
     "output_type": "execute_result"
    },
    {
     "data": {
      "image/png": "[encoded data removed]",
      "text/plain": [
       "<Figure size 432x288 with 1 Axes>"
      ]
     },
     "metadata": {
      "needs_background": "light"
     },
     "output_type": "display_data"
    }
   ],
   "source": [
    "#seeing the distribution\n",
    "plt.scatter(X,Y)"
   ]
  },
  {
   "cell_type": "markdown",
   "metadata": {},
   "source": [
    "Algo apply"
   ]
  },
  {
   "cell_type": "code",
   "execution_count": 8,
   "metadata": {},
   "outputs": [
    {
     "data": {
      "text/plain": [
       "LinearRegression(copy_X=True, fit_intercept=True, n_jobs=None, normalize=False)"
      ]
     },
     "execution_count": 8,
     "metadata": {},
     "output_type": "execute_result"
    }
   ],
   "source": [
    "#Implementing Linear Regression to see th slope and intercept value which we have to optimize\n",
    "\n",
    "from sklearn.linear_model import LinearRegression\n",
    "LR=LinearRegression()\n",
    "LR.fit(x,y)"
   ]
  },
  {
   "cell_type": "code",
   "execution_count": 9,
   "metadata": {},
   "outputs": [
    {
     "data": {
      "text/plain": [
       "array([-3.89578088])"
      ]
     },
     "execution_count": 9,
     "metadata": {},
     "output_type": "execute_result"
    }
   ],
   "source": [
    "LR.intercept_  #note that value for checking"
   ]
  },
  {
   "cell_type": "code",
   "execution_count": 10,
   "metadata": {},
   "outputs": [
    {
     "data": {
      "text/plain": [
       "array([[1.19303364]])"
      ]
     },
     "execution_count": 10,
     "metadata": {},
     "output_type": "execute_result"
    }
   ],
   "source": [
    "LR.coef_     #note that value for checking"
   ]
  },
  {
   "cell_type": "code",
   "execution_count": 35,
   "metadata": {},
   "outputs": [],
   "source": [
    "'''\n",
    "Batch Gradient functions\n",
    "For Large dataset it is costly as it take a single sample and calculate slope and intercept which are costs in our equation,\n",
    "It can give good optimized error rate but make sure to use it in small dataset, but is fast compared to Stochastic Gradient\n",
    "as you see there are only 97 rows\n",
    "'''   \n",
    "\n",
    "\n",
    "def cal_cost(theta,x_data,y_data):\n",
    "    '''\n",
    "    this function calculates the cost, formula is [1/(2*total rows)*]summation[(yi-y`)]\n",
    "    '''\n",
    "    length=len(x_data)\n",
    "    prediction=x_data.dot(theta)   #dot product of x_values and theta which we take\n",
    "    cost=(1/2*length)*np.sum(np.square(prediction-y_data))\n",
    "    return cost\n",
    "\n",
    "   \n",
    "def Batch_Gradient_function(x_data,y_data,theta,learning_rate=0.001,iteration=100):\n",
    "    t1=time.time()\n",
    "    \n",
    "    \n",
    "    length=len(x_data)\n",
    "    cost_history=np.zeros(iteration)\n",
    "    theta_history=np.zeros((iteration,2))\n",
    "    for i in range(iteration):\n",
    "        prediction=np.dot(x_data,theta)\n",
    "        theta=theta-(1/length)*learning_rate*(x_data.T.dot((prediction-y_data)))\n",
    "        theta_history[i,:]=theta.T\n",
    "        cost_history[i]=cal_cost(theta,x_data,y_data)\n",
    "    t2=time.time()    \n",
    "    print(\"time consumed {} ms\".format(t2-t1)) \n",
    "    \n",
    "        \n",
    "    \n",
    "    return theta,cost_history,theta_history\n",
    "    \n",
    "   "
   ]
  },
  {
   "cell_type": "code",
   "execution_count": null,
   "metadata": {},
   "outputs": [],
   "source": []
  },
  {
   "cell_type": "code",
   "execution_count": 36,
   "metadata": {},
   "outputs": [
    {
     "name": "stdout",
     "output_type": "stream",
     "text": [
      "Batch_Gradient\n",
      "time consumed 0.03790020942687988 ms\n",
      "Theta0:-3.506279850555279,\n",
      " Theta1:1.1539040411044974\n",
      "final cost 42253.777823978664\n"
     ]
    }
   ],
   "source": [
    "\n",
    "'''\n",
    "Running the Batch Gradient function\n",
    "'''\n",
    "iteration=2700\n",
    "theta=np.random.randn(2,1)    \n",
    "x_b=np.c_[np.ones((len(x),1)),x]\n",
    "\n",
    "\n",
    "print(\"Batch_Gradient\")\n",
    "\n",
    "theta,cost_history,theta_history=Batch_Gradient_function(x_b,y,theta,0.005,iteration)\n",
    "print(\"Theta0:{},\\n Theta1:{}\".format(theta[0][0],theta[1][0]))\n",
    "print(\"final cost {}\".format(cost_history[-1]))\n",
    "\n"
   ]
  },
  {
   "cell_type": "markdown",
   "metadata": {},
   "source": [
    "Please note that we have reached the same slope and intercept value just like the algorithm did above\n",
    "\n",
    "intercept value is -3.89578088\n",
    "\n",
    "slope is 1.1605783160721899\n",
    "\n",
    "We need 2500 iterations to reach the value"
   ]
  },
  {
   "cell_type": "markdown",
   "metadata": {},
   "source": [
    "# Let's plot the cost_history over epochs"
   ]
  },
  {
   "cell_type": "code",
   "execution_count": 42,
   "metadata": {},
   "outputs": [
    {
     "data": {
      "image/png": "[encoded data removed]",
      "text/plain": [
       "<Figure size 720x576 with 1 Axes>"
      ]
     },
     "metadata": {
      "needs_background": "light"
     },
     "output_type": "display_data"
    }
   ],
   "source": [
    "fig,axis=plt.subplots(figsize=(10,8))\n",
    "axis.set_ylabel('J_value')\n",
    "axis.set_xlabel('iterations')\n",
    "_=axis.plot(range(iteration),cost_history,'b.')"
   ]
  },
  {
   "cell_type": "markdown",
   "metadata": {},
   "source": [
    "see after 2500 it reaches it's convergence"
   ]
  },
  {
   "cell_type": "markdown",
   "metadata": {},
   "source": [
    "# Stochastic Gradient Descent"
   ]
  },
  {
   "cell_type": "code",
   "execution_count": 37,
   "metadata": {},
   "outputs": [],
   "source": [
    "\n",
    "\n",
    "\n",
    "def Stochastic_function(x_data,y_data,theta,learning_rate=0.001,iteration=1000):\n",
    "    '''\n",
    "     SGD randomly picks one data point from the whole data set at each iteration to reduce the computations enormously\n",
    "     It is also common to sample a small number of data points instead of just one point at each step.\n",
    "    \n",
    "    \n",
    "'''\n",
    "    t3=time.time()\n",
    "    length=len(x_data)\n",
    "    cost_history=np.zeros(iteration)\n",
    "    for i in range(iteration):\n",
    "        cost=0.0\n",
    "        for i in range(length):\n",
    "            rand_ind=np.random.randint(0,length)\n",
    "            x_i=x_data[rand_ind,:].reshape(1,x_data.shape[1])\n",
    "            y_i=y_data[rand_ind].reshape(1,1)\n",
    "            prediction=np.dot(x_i,theta)\n",
    "            theta=theta-(1/length)*learning_rate*(x_i.T.dot((prediction-y_i)))\n",
    "            cost=cost+cal_cost(theta,x_i,y_i)\n",
    "        cost_history[i]=cost\n",
    "    t4=time.time()\n",
    "    print(\"time consumed {} ms\".format(t4-t3))\n",
    "    return theta,cost_history\n",
    "    \n",
    "        "
   ]
  },
  {
   "cell_type": "code",
   "execution_count": 38,
   "metadata": {},
   "outputs": [
    {
     "name": "stdout",
     "output_type": "stream",
     "text": [
      "time consumed 0.21443533897399902 ms\n",
      "Theta0:-0.3263433476371238,\n",
      " Theta1:0.850578297088458\n",
      "final cost 0.0\n"
     ]
    }
   ],
   "source": [
    "iteration=100\n",
    "theta=np.random.randn(2,1)    \n",
    "x_b=np.c_[np.ones((len(x),1)),x]\n",
    "\n",
    "theta,cost_history=Stochastic_function(x_b,y,theta,0.001,iteration)\n",
    "print(\"Theta0:{},\\n Theta1:{}\".format(theta[0][0],theta[1][0]))\n",
    "print(\"final cost {}\".format(cost_history[-1]))\n",
    "\n"
   ]
  },
  {
   "cell_type": "markdown",
   "metadata": {},
   "source": [
    "Theta0 and Theta1 is not cope up with the original algorithm"
   ]
  },
  {
   "cell_type": "markdown",
   "metadata": {},
   "source": [
    "Batch Gradient is faster than Stochastic gradient near about 0.2 ms upon a dataset consisting near about 100 rows, 2 features\n"
   ]
  },
  {
   "cell_type": "code",
   "execution_count": null,
   "metadata": {},
   "outputs": [],
   "source": []
  },
  {
   "cell_type": "code",
   "execution_count": null,
   "metadata": {},
   "outputs": [],
   "source": []
  },
  {
   "cell_type": "code",
   "execution_count": null,
   "metadata": {},
   "outputs": [],
   "source": []
  },
  {
   "cell_type": "code",
   "execution_count": null,
   "metadata": {},
   "outputs": [],
   "source": []
  },
  {
   "cell_type": "code",
   "execution_count": null,
   "metadata": {},
   "outputs": [],
   "source": []
  }
 ],
 "metadata": {
  "kernelspec": {
   "display_name": "Python 3",
   "language": "python",
   "name": "python3"
  },
  "language_info": {
   "codemirror_mode": {
    "name": "ipython",
    "version": 3
   },
   "file_extension": ".py",
   "mimetype": "text/x-python",
   "name": "python",
   "nbconvert_exporter": "python",
   "pygments_lexer": "ipython3",
   "version": "3.7.6"
  }
 },
 "nbformat": 4,
 "nbformat_minor": 4
}
